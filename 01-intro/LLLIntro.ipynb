{
 "cells": [
  {
   "cell_type": "code",
   "execution_count": 1,
   "id": "be6ed5f4-036c-434f-9f19-4fa03a779dcb",
   "metadata": {},
   "outputs": [],
   "source": [
    "import openai"
   ]
  },
  {
   "cell_type": "code",
   "execution_count": 3,
   "id": "f8d0bdcd-99ff-44d3-9fd6-2ef3f4ee1987",
   "metadata": {},
   "outputs": [],
   "source": [
    "from groq import Groq\n",
    "from openai import OpenAI"
   ]
  },
  {
   "cell_type": "code",
   "execution_count": null,
   "id": "584300e4-acd7-47fe-8e7e-2d92ca071989",
   "metadata": {},
   "outputs": [],
   "source": [
    "client = Groq()"
   ]
  },
  {
   "cell_type": "code",
   "execution_count": null,
   "id": "c8e90853-ebd0-45b0-aa7b-48e8a2691b32",
   "metadata": {},
   "outputs": [],
   "source": [
    "import os"
   ]
  },
  {
   "cell_type": "code",
   "execution_count": 7,
   "id": "61d57969-bcbd-4fe9-b247-6103d54233ab",
   "metadata": {},
   "outputs": [
    {
     "data": {
      "text/plain": [
       "environ{'MallocNanoZone': '0',\n",
       "        'USER': 'waithira',\n",
       "        'COMMAND_MODE': 'unix2003',\n",
       "        '__CFBundleIdentifier': 'com.microsoft.VSCode',\n",
       "        'PATH': '/Users/waithira/.virtualenvs/llm-zoomcamp/bin:/Users/waithira/Downloads/google-cloud-sdk/bin:/opt/homebrew/opt/postgresql@15/bin:/Users/waithira/.pyenv/shims:/Users/waithira/.pyenv/bin:/Library/Frameworks/Python.framework/Versions/3.11/bin:/opt/homebrew/bin:/opt/homebrew/sbin:/usr/local/bin:/System/Cryptexes/App/usr/bin:/usr/bin:/bin:/usr/sbin:/sbin:/var/run/com.apple.security.cryptexd/codex.system/bootstrap/usr/local/bin:/var/run/com.apple.security.cryptexd/codex.system/bootstrap/usr/bin:/var/run/com.apple.security.cryptexd/codex.system/bootstrap/usr/appleinternal/bin:/Users/waithira/Downloads/google-cloud-sdk/bin:/opt/homebrew/opt/postgresql@15/bin:/Users/waithira/.pyenv/bin:/Library/Frameworks/Python.framework/Versions/3.11/bin:/Applications/Visual Studio Code.app/Contents/Resources/app/bin:/Users/waithira/.vscode/extensions/ms-python.debugpy-2025.8.0-darwin-arm64/bundled/scripts/noConfigScripts:/Users/waithira/Library/Application Support/Code/User/globalStorage/github.copilot-chat/debugCommand:/Applications/Visual Studio Code.app/Contents/Resources/app/bin:/Applications/Visual Studio Code.app/Contents/Resources/app/bin',\n",
       "        'LOGNAME': 'waithira',\n",
       "        'SSH_AUTH_SOCK': '/private/tmp/com.apple.launchd.4hVGV9G9sH/Listeners',\n",
       "        'HOME': '/Users/waithira',\n",
       "        'SHELL': '/bin/zsh',\n",
       "        'TMPDIR': '/var/folders/4y/rlh4ffx14zb25zg4z_vwyx_w0000gn/T/',\n",
       "        '__CF_USER_TEXT_ENCODING': '0x1F5:0x0:0x0',\n",
       "        'XPC_SERVICE_NAME': '0',\n",
       "        'XPC_FLAGS': '0x0',\n",
       "        'ORIGINAL_XDG_CURRENT_DESKTOP': 'undefined',\n",
       "        'SHLVL': '1',\n",
       "        'PWD': '/Users/waithira/LLM/llm-zoomcamp',\n",
       "        'OLDPWD': '/Users/waithira/LLM/llm-zoomcamp',\n",
       "        'HOMEBREW_PREFIX': '/opt/homebrew',\n",
       "        'HOMEBREW_CELLAR': '/opt/homebrew/Cellar',\n",
       "        'HOMEBREW_REPOSITORY': '/opt/homebrew',\n",
       "        'INFOPATH': '/opt/homebrew/share/info:/opt/homebrew/share/info:',\n",
       "        'ZSH': '/Users/waithira/.oh-my-zsh',\n",
       "        'PAGER': 'cat',\n",
       "        'LESS': '-R',\n",
       "        'LSCOLORS': 'Gxfxcxdxbxegedabagacad',\n",
       "        'LS_COLORS': 'di=1;36:ln=35:so=32:pi=33:ex=31:bd=34;46:cd=34;43:su=30;41:sg=30;46:tw=30;42:ow=30;43',\n",
       "        'PYENV_ROOT': '/Users/waithira/.pyenv',\n",
       "        'PYENV_SHELL': 'zsh',\n",
       "        'WORKON_HOME': '/Users/waithira/.virtualenvs',\n",
       "        'VIRTUALENVWRAPPER_PYTHON': '/Users/waithira/.pyenv/versions/3.12.9/bin/python',\n",
       "        'VIRTUALENVWRAPPER_PROJECT_FILENAME': '.project',\n",
       "        'VIRTUALENVWRAPPER_WORKON_CD': '1',\n",
       "        'VIRTUALENVWRAPPER_SCRIPT': '/Users/waithira/.pyenv/versions/3.12.9/bin/virtualenvwrapper.sh',\n",
       "        'VIRTUALENVWRAPPER_HOOK_DIR': '/Users/waithira/.virtualenvs',\n",
       "        'GOOGLE_APPLICATION_CREDENTIALS': '/Users/waithira/DataEngineering/new-york-taxi-njoune.json',\n",
       "        'TERM_PROGRAM': 'vscode',\n",
       "        'TERM_PROGRAM_VERSION': '1.100.2',\n",
       "        'LANG': 'en_US.UTF-8',\n",
       "        'COLORTERM': 'truecolor',\n",
       "        'GIT_ASKPASS': '/Applications/Visual Studio Code.app/Contents/Resources/app/extensions/git/dist/askpass.sh',\n",
       "        'VSCODE_GIT_ASKPASS_NODE': '/Applications/Visual Studio Code.app/Contents/Frameworks/Code Helper (Plugin).app/Contents/MacOS/Code Helper (Plugin)',\n",
       "        'VSCODE_GIT_ASKPASS_EXTRA_ARGS': '',\n",
       "        'VSCODE_GIT_ASKPASS_MAIN': '/Applications/Visual Studio Code.app/Contents/Resources/app/extensions/git/dist/askpass-main.js',\n",
       "        'VSCODE_GIT_IPC_HANDLE': '/var/folders/4y/rlh4ffx14zb25zg4z_vwyx_w0000gn/T/vscode-git-e060983c28.sock',\n",
       "        'PYDEVD_DISABLE_FILE_VALIDATION': '1',\n",
       "        'VSCODE_DEBUGPY_ADAPTER_ENDPOINTS': '/Users/waithira/.vscode/extensions/ms-python.debugpy-2025.8.0-darwin-arm64/.noConfigDebugAdapterEndpoints/endpoint-38b4c96056305de5.txt',\n",
       "        'BUNDLED_DEBUGPY_PATH': '/Users/waithira/.vscode/extensions/ms-python.debugpy-2025.8.0-darwin-arm64/bundled/libs/debugpy',\n",
       "        'VSCODE_INJECTION': '1',\n",
       "        'ZDOTDIR': '/Users/waithira',\n",
       "        'USER_ZDOTDIR': '/Users/waithira',\n",
       "        'TERM': 'xterm-color',\n",
       "        'VSCODE_PROFILE_INITIALIZED': '1',\n",
       "        'VIRTUAL_ENV': '/Users/waithira/.virtualenvs/llm-zoomcamp',\n",
       "        'VIRTUAL_ENV_PROMPT': 'llm-zoomcamp',\n",
       "        'PS1': '(llm-zoomcamp) %(?:%{\\x1b[01;32m%}%1{➜%} :%{\\x1b[01;31m%}%1{➜%} ) %{\\x1b[36m%}%c%{\\x1b[00m%} $(git_prompt_info)',\n",
       "        '_': '/Users/waithira/.virtualenvs/llm-zoomcamp/bin/jupyter',\n",
       "        'JPY_SESSION_NAME': '/Users/waithira/LLM/llm-zoomcamp/01-intro/Untitled.ipynb',\n",
       "        'JPY_PARENT_PID': '56071',\n",
       "        'PYDEVD_USE_FRAME_EVAL': 'NO',\n",
       "        'CLICOLOR': '1',\n",
       "        'FORCE_COLOR': '1',\n",
       "        'CLICOLOR_FORCE': '1',\n",
       "        'GIT_PAGER': 'cat',\n",
       "        'MPLBACKEND': 'module://matplotlib_inline.backend_inline'}"
      ]
     },
     "execution_count": 7,
     "metadata": {},
     "output_type": "execute_result"
    }
   ],
   "source": [
    "os.environ"
   ]
  },
  {
   "cell_type": "code",
   "execution_count": 9,
   "id": "15c72ea3-8104-4da5-ab83-ff455e8ad37c",
   "metadata": {},
   "outputs": [],
   "source": [
    "response = client.chat.completions.create(\n",
    "    model = 'meta-llama/llama-4-scout-17b-16e-instruct',\n",
    "    messages = [{\"role\": \"user\", \"content\": \"What is the weather in Maua, Kenya\"}]\n",
    ")"
   ]
  },
  {
   "cell_type": "code",
   "execution_count": 23,
   "id": "9cb8daec-abb8-4792-a483-ceba5df0831e",
   "metadata": {},
   "outputs": [
    {
     "name": "stdout",
     "output_type": "stream",
     "text": [
      "<class 'tuple'>\n",
      "<class 'tuple'>\n",
      "<class 'tuple'>\n",
      "<class 'tuple'>\n",
      "<class 'tuple'>\n",
      "<class 'tuple'>\n",
      "<class 'tuple'>\n",
      "<class 'tuple'>\n",
      "<class 'tuple'>\n"
     ]
    }
   ],
   "source": [
    "for chunk in response:\n",
    "    \n",
    "    print(type(chunk))"
   ]
  },
  {
   "cell_type": "code",
   "execution_count": 28,
   "id": "2974da54-7756-46b9-9981-e7f950c6cf78",
   "metadata": {},
   "outputs": [
    {
     "data": {
      "text/plain": [
       "ChatCompletion(id='chatcmpl-76c154b7-f4d4-48ca-92e7-05bd53420ca2', choices=[Choice(finish_reason='stop', index=0, logprobs=None, message=ChatCompletionMessage(content=\"Maua is a town in Meru County, Kenya. According to current weather data, Maua has a subtropical climate with two rainy seasons and two dry seasons throughout the year.\\n\\nHere's a general overview of the weather in Maua, Kenya:\\n\\n* **Temperature:** The average temperature in Maua ranges from 18°C (64°F) to 28°C (82°F) throughout the year.\\n* **Rainfall:** Maua experiences two rainy seasons:\\n\\t+ **Long rains:** March to May, with the most significant rainfall occurring in April.\\n\\t+ **Short rains:** October to December, with the most significant rainfall occurring in November.\\n\\nHere's a rough breakdown of the weather in Maua by month:\\n\\n* **January to February:** Warm and dry, with average temperatures ranging from 20°C (68°F) to 28°C (82°F).\\n* **March to May:** Cooler and wetter, with average temperatures ranging from 18°C (64°F) to 25°C (77°F).\\n* **June to August:** Cool and dry, with average temperatures ranging from 18°C (64°F) to 24°C (75°F).\\n* **September to December:** Warm and wet, with average temperatures ranging from 20°C (68°F) to 27°C (81°F).\\n\\nKeep in mind that these are general weather patterns, and actual conditions may vary from year to year.\\n\\nIf you're planning to visit Maua, Kenya, I recommend checking a reliable weather forecast website or app, such as AccuWeather, Weather Underground, or the Kenya Meteorological Department, for more up-to-date and specific weather information.\", role='assistant', executed_tools=None, function_call=None, reasoning=None, tool_calls=None))], created=1748497214, model='meta-llama/llama-4-scout-17b-16e-instruct', object='chat.completion', system_fingerprint='fp_79da0e0073', usage=CompletionUsage(completion_tokens=332, prompt_tokens=19, total_tokens=351, completion_time=0.696576202, prompt_time=0.002654626, queue_time=0.253915552, total_time=0.699230828), usage_breakdown=UsageBreakdown(models=None), x_groq={'id': 'req_01jwd8wb50ex5trsw56sq8gke0'})"
      ]
     },
     "execution_count": 28,
     "metadata": {},
     "output_type": "execute_result"
    }
   ],
   "source": [
    "response"
   ]
  },
  {
   "cell_type": "code",
   "execution_count": 33,
   "id": "c865cfa7-6c89-4ae6-8d6e-410cd9b045f1",
   "metadata": {},
   "outputs": [
    {
     "data": {
      "text/plain": [
       "\"Maua is a town in Meru County, Kenya. According to current weather data, Maua has a subtropical climate with two rainy seasons and two dry seasons throughout the year.\\n\\nHere's a general overview of the weather in Maua, Kenya:\\n\\n* **Temperature:** The average temperature in Maua ranges from 18°C (64°F) to 28°C (82°F) throughout the year.\\n* **Rainfall:** Maua experiences two rainy seasons:\\n\\t+ **Long rains:** March to May, with the most significant rainfall occurring in April.\\n\\t+ **Short rains:** October to December, with the most significant rainfall occurring in November.\\n\\nHere's a rough breakdown of the weather in Maua by month:\\n\\n* **January to February:** Warm and dry, with average temperatures ranging from 20°C (68°F) to 28°C (82°F).\\n* **March to May:** Cooler and wetter, with average temperatures ranging from 18°C (64°F) to 25°C (77°F).\\n* **June to August:** Cool and dry, with average temperatures ranging from 18°C (64°F) to 24°C (75°F).\\n* **September to December:** Warm and wet, with average temperatures ranging from 20°C (68°F) to 27°C (81°F).\\n\\nKeep in mind that these are general weather patterns, and actual conditions may vary from year to year.\\n\\nIf you're planning to visit Maua, Kenya, I recommend checking a reliable weather forecast website or app, such as AccuWeather, Weather Underground, or the Kenya Meteorological Department, for more up-to-date and specific weather information.\""
      ]
     },
     "execution_count": 33,
     "metadata": {},
     "output_type": "execute_result"
    }
   ],
   "source": [
    "response.choices[0].message.content"
   ]
  },
  {
   "cell_type": "code",
   "execution_count": 41,
   "id": "725d1b59-d134-4638-9c5a-5e9b2fc0463e",
   "metadata": {},
   "outputs": [
    {
     "data": {
      "text/plain": [
       "ChatCompletionMessage(content=\"Maua is a town in Meru County, Kenya. According to current weather data, Maua has a subtropical climate with two rainy seasons and two dry seasons throughout the year.\\n\\nHere's a general overview of the weather in Maua, Kenya:\\n\\n* **Temperature:** The average temperature in Maua ranges from 18°C (64°F) to 28°C (82°F) throughout the year.\\n* **Rainfall:** Maua experiences two rainy seasons:\\n\\t+ **Long rains:** March to May, with the most significant rainfall occurring in April.\\n\\t+ **Short rains:** October to December, with the most significant rainfall occurring in November.\\n\\nHere's a rough breakdown of the weather in Maua by month:\\n\\n* **January to February:** Warm and dry, with average temperatures ranging from 20°C (68°F) to 28°C (82°F).\\n* **March to May:** Cooler and wetter, with average temperatures ranging from 18°C (64°F) to 25°C (77°F).\\n* **June to August:** Cool and dry, with average temperatures ranging from 18°C (64°F) to 24°C (75°F).\\n* **September to December:** Warm and wet, with average temperatures ranging from 20°C (68°F) to 27°C (81°F).\\n\\nKeep in mind that these are general weather patterns, and actual conditions may vary from year to year.\\n\\nIf you're planning to visit Maua, Kenya, I recommend checking a reliable weather forecast website or app, such as AccuWeather, Weather Underground, or the Kenya Meteorological Department, for more up-to-date and specific weather information.\", role='assistant', executed_tools=None, function_call=None, reasoning=None, tool_calls=None)"
      ]
     },
     "execution_count": 41,
     "metadata": {},
     "output_type": "execute_result"
    }
   ],
   "source": [
    "response.choices[0].message"
   ]
  },
  {
   "cell_type": "code",
   "execution_count": null,
   "id": "3c626b59-4de9-4470-8031-a1b2bd717e27",
   "metadata": {},
   "outputs": [],
   "source": []
  }
 ],
 "metadata": {
  "kernelspec": {
   "display_name": "Python 3 (ipykernel)",
   "language": "python",
   "name": "python3"
  },
  "language_info": {
   "codemirror_mode": {
    "name": "ipython",
    "version": 3
   },
   "file_extension": ".py",
   "mimetype": "text/x-python",
   "name": "python",
   "nbconvert_exporter": "python",
   "pygments_lexer": "ipython3",
   "version": "3.12.9"
  }
 },
 "nbformat": 4,
 "nbformat_minor": 5
}
